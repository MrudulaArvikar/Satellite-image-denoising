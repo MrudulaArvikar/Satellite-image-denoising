{
 "cells": [
  {
   "cell_type": "code",
   "execution_count": 1,
   "id": "aba50da7-c470-48cb-a7fe-26628b03d4a9",
   "metadata": {},
   "outputs": [
    {
     "name": "stderr",
     "output_type": "stream",
     "text": [
      "C:\\Users\\USER\\AppData\\Local\\Temp\\ipykernel_10648\\2556235396.py:39: FutureWarning: You are using `torch.load` with `weights_only=False` (the current default value), which uses the default pickle module implicitly. It is possible to construct malicious pickle data which will execute arbitrary code during unpickling (See https://github.com/pytorch/pytorch/blob/main/SECURITY.md#untrusted-models for more details). In a future release, the default value for `weights_only` will be flipped to `True`. This limits the functions that could be executed during unpickling. Arbitrary objects will no longer be allowed to be loaded via this mode unless they are explicitly allowlisted by the user via `torch.serialization.add_safe_globals`. We recommend you start setting `weights_only=True` for any use case where you don't have full control of the loaded file. Please open an issue on GitHub for any issues related to this experimental feature.\n",
      "  model.load_state_dict(torch.load('denoising_model_2.pth'))\n"
     ]
    },
    {
     "name": "stdout",
     "output_type": "stream",
     "text": [
      "PSNR before denoising: 12.95 dB\n",
      "PSNR after denoising: 19.80 dB\n"
     ]
    }
   ],
   "source": [
    "import torch\n",
    "import torch.nn as nn\n",
    "from torchvision import transforms\n",
    "from PIL import Image\n",
    "import matplotlib.pyplot as plt\n",
    "import math\n",
    "\n",
    "# Define the denoising autoencoder model\n",
    "class DenoisingAutoencoder(nn.Module):\n",
    "    def __init__(self):\n",
    "        super(DenoisingAutoencoder, self).__init__()\n",
    "\n",
    "        # Encoder\n",
    "        self.encoder = nn.Sequential(\n",
    "            nn.Conv2d(1, 32, kernel_size=3, padding=1),\n",
    "            nn.ReLU(),\n",
    "            nn.MaxPool2d(2, 2),\n",
    "            nn.Conv2d(32, 64, kernel_size=3, padding=1),\n",
    "            nn.ReLU(),\n",
    "            nn.MaxPool2d(2, 2)\n",
    "        )\n",
    "\n",
    "        # Decoder\n",
    "        self.decoder = nn.Sequential(\n",
    "            nn.Conv2d(64, 32, kernel_size=3, padding=1),\n",
    "            nn.ReLU(),\n",
    "            nn.Upsample(scale_factor=4),\n",
    "            nn.Conv2d(32, 1, kernel_size=3, padding=1),\n",
    "            nn.Sigmoid()\n",
    "        )\n",
    "\n",
    "    def forward(self, x):\n",
    "        x = self.encoder(x)\n",
    "        x = self.decoder(x)\n",
    "        return x\n",
    "\n",
    "# Load the pre-trained model\n",
    "model = DenoisingAutoencoder()\n",
    "model.load_state_dict(torch.load('denoising_model_2.pth'))\n",
    "model.eval()\n",
    "\n",
    "# Define data transformation for inference\n",
    "transform = transforms.Compose([\n",
    "    transforms.Grayscale(),\n",
    "    transforms.Resize((1024, 1024)),\n",
    "    transforms.ToTensor(),\n",
    "])\n",
    "\n",
    "# Load and preprocess the original and noisy images\n",
    "original_image_path = 'C:\\\\Satellite-Image-Denoising-master\\\\Data\\\\Train\\\\Clean\\\\class_1\\\\1_0.jpeg'\n",
    "noisy_image_path = 'C:\\\\Satellite-Image-Denoising-master\\\\Data\\\\Train\\\\Noisy\\\\class_1\\\\1_0.jpeg'\n",
    "\n",
    "\n",
    "original_image = Image.open(original_image_path).convert('L')\n",
    "noisy_image = Image.open(noisy_image_path).convert('L')\n",
    "\n",
    "original_tensor = transform(original_image).unsqueeze(0)  # Add batch dimension\n",
    "noisy_tensor = transform(noisy_image).unsqueeze(0)  # Add batch dimension\n",
    "\n",
    "# Calculate PSNR before denoising\n",
    "def calculate_psnr(image1, image2):\n",
    "    mse = ((image1 - image2) ** 2).mean()\n",
    "    max_pixel_value = 255\n",
    "    psnr = 20 * math.log10(max_pixel_value) - 10 * math.log10(mse)\n",
    "    return psnr\n",
    "\n",
    "psnr_before_denoising = calculate_psnr(original_tensor.squeeze(0).numpy() * 255, noisy_tensor.squeeze(0).numpy() * 255)\n",
    "\n",
    "# Perform denoising\n",
    "with torch.no_grad():\n",
    "    denoised_tensor = model(noisy_tensor)\n",
    "\n",
    "# Calculate PSNR after denoising\n",
    "psnr_after_denoising = calculate_psnr(original_tensor.squeeze(0).numpy() * 255, denoised_tensor.squeeze(0).numpy() * 255)\n",
    "\n",
    "print(f\"PSNR before denoising: {psnr_before_denoising:.2f} dB\")\n",
    "print(f\"PSNR after denoising: {psnr_after_denoising:.2f} dB\")\n",
    "\n",
    "# Convert the denoised tensor to a PIL image\n",
    "denoised_image = transforms.ToPILImage()(denoised_tensor.squeeze(0))\n",
    "\n",
    "# Save the original and noisy images for comparison\n",
    "original_image.save('original_image1.jpeg')\n",
    "noisy_image.save('noisy_image1.jpeg')\n",
    "\n",
    "# Save the denoised image\n",
    "denoised_image.save('denoised_image1.jpeg')\n",
    "\n",
    "\n"
   ]
  },
  {
   "cell_type": "code",
   "execution_count": null,
   "id": "641991e1-d8d6-4b33-9834-a034e069a434",
   "metadata": {},
   "outputs": [],
   "source": []
  }
 ],
 "metadata": {
  "kernelspec": {
   "display_name": "Python 3 (ipykernel)",
   "language": "python",
   "name": "python3"
  },
  "language_info": {
   "codemirror_mode": {
    "name": "ipython",
    "version": 3
   },
   "file_extension": ".py",
   "mimetype": "text/x-python",
   "name": "python",
   "nbconvert_exporter": "python",
   "pygments_lexer": "ipython3",
   "version": "3.12.4"
  }
 },
 "nbformat": 4,
 "nbformat_minor": 5
}
